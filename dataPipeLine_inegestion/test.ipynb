{
 "cells": [
  {
   "cell_type": "code",
   "execution_count": 1,
   "metadata": {},
   "outputs": [
    {
     "name": "stdout",
     "output_type": "stream",
     "text": [
      "{'file_type': 'csv', 'dataset_name': 'RefGenomeList', 'file_name': 'large_file', 'table_name': 'SourmashGather', 'inbound_delimiter': ',', 'outbound_delimiter': '|', 'skip_leading_rows': 1, 'columns': '-intersect_bp -f_orig_query -f_match -f_unique_to_query -f_unique_weighted -average_abund -median_abund -std_abund -name -filename -md5 -f_match_orig -unique_intersect_bp -gather_result_rank -remaining_bp -query_filename -query_name -query_md5 -query_bp'}\n"
     ]
    }
   ],
   "source": [
    "import utils as utils # utils.py is in the same directory as my other files. \n",
    "import dask.dataframe as dd\n",
    "import timeit\n",
    "\n",
    "if __name__ == \"__main__\":\n",
    "    config_data = utils.read_config_file(\"/home/bioinfo/DataGlacier/DataGlacier_projects/dataPipeLine_inegestion/config.yaml\") #yaml file allows my pipeline to be more dynamic and I can adjust requirements in yaml file if any issues pop up \n",
    "    print(config_data)"
   ]
  },
  {
   "cell_type": "code",
   "execution_count": null,
   "metadata": {},
   "outputs": [],
   "source": []
  }
 ],
 "metadata": {
  "kernelspec": {
   "display_name": "Python 3.9.7 ('.venv': venv)",
   "language": "python",
   "name": "python3"
  },
  "language_info": {
   "codemirror_mode": {
    "name": "ipython",
    "version": 3
   },
   "file_extension": ".py",
   "mimetype": "text/x-python",
   "name": "python",
   "nbconvert_exporter": "python",
   "pygments_lexer": "ipython3",
   "version": "3.9.7"
  },
  "orig_nbformat": 4,
  "vscode": {
   "interpreter": {
    "hash": "3a7c15a5371a134d674f2d6b70ed18c9d36e3560223c2a436627cadee42b8b06"
   }
  }
 },
 "nbformat": 4,
 "nbformat_minor": 2
}
